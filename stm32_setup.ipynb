{
 "cells": [
  {
   "cell_type": "code",
   "execution_count": 26,
   "id": "f4fd64de-b646-44aa-9b7e-1d56be76374d",
   "metadata": {},
   "outputs": [
    {
     "name": "stdout",
     "output_type": "stream",
     "text": [
      "done\n"
     ]
    }
   ],
   "source": [
    "import chipwhisperer as cw\n",
    "scope = cw.scope()\n",
    "print(\"done\")"
   ]
  },
  {
   "cell_type": "code",
   "execution_count": 27,
   "id": "bd42a5ca-cb49-4b49-a350-cbca4e29e7aa",
   "metadata": {},
   "outputs": [],
   "source": [
    "target = cw.target(scope, cw.targets.SimpleSerial) #cw.targets.SimpleSerial can be omitted\n"
   ]
  },
  {
   "cell_type": "code",
   "execution_count": 28,
   "id": "13ea15af-fb37-4aa7-9cf8-ba4bc2b7fbea",
   "metadata": {},
   "outputs": [
    {
     "name": "stdout",
     "output_type": "stream",
     "text": [
      "scope.gain.mode                          changed from low                       to high                     \n",
      "scope.gain.gain                          changed from 0                         to 30                       \n",
      "scope.gain.db                            changed from 5.5                       to 24.8359375               \n",
      "scope.adc.basic_mode                     changed from low                       to rising_edge              \n",
      "scope.adc.samples                        changed from 24400                     to 5000                     \n",
      "scope.adc.trig_count                     changed from 244267548                 to 265122397                \n",
      "scope.clock.adc_src                      changed from clkgen_x1                 to clkgen_x4                \n",
      "scope.clock.adc_freq                     changed from 96000000                  to 29538459                 \n",
      "scope.clock.adc_rate                     changed from 96000000.0                to 29538459.0               \n",
      "scope.clock.clkgen_div                   changed from 1                         to 26                       \n",
      "scope.clock.clkgen_freq                  changed from 192000000.0               to 7384615.384615385        \n",
      "scope.io.tio1                            changed from serial_tx                 to serial_rx                \n",
      "scope.io.tio2                            changed from serial_rx                 to serial_tx                \n",
      "scope.io.hs2                             changed from None                      to clkgen                   \n",
      "scope.io.tio_states                      changed from (1, 0, 0, 0)              to (0, 1, 0, 0)             \n",
      "scope.io.cdc_settings                    changed from [1, 0, 0, 0]              to [0, 0, 0, 0]             \n"
     ]
    }
   ],
   "source": [
    "scope.default_setup()\n"
   ]
  },
  {
   "cell_type": "code",
   "execution_count": 35,
   "id": "65ea4283-902b-4d0d-8d56-eeb272ad21f8",
   "metadata": {},
   "outputs": [
    {
     "name": "stdout",
     "output_type": "stream",
     "text": [
      "SS_VER set to SS_VER_1_1\n",
      "SS_VER set to SS_VER_1_1\n",
      ".\n",
      "Welcome to another exciting ChipWhisperer target build!!\n",
      ".\n",
      "Cleaning project:\n",
      "rm -f -- simpleserial-base-CW308_CC2538.hex simpleserial-base-CW301_AVR.hex simpleserial-base-CW303.hex simpleserial-base-CW304.hex simpleserial-base-CW308_MEGARF.hex simpleserial-base-CW308_SAM4L.hex simpleserial-base-CW308_STM32F0.hex simpleserial-base-CW308_STM32F1.hex simpleserial-base-CW308_STM32F2.hex simpleserial-base-CW308_STM32F3.hex simpleserial-base-CW308_STM32F4.hex simpleserial-base-CW308_K24F.hex simpleserial-base-CW308_NRF52.hex simpleserial-base-CW308_AURIX.hex simpleserial-base-CW308_SAML11.hex simpleserial-base-CW308_EFM32TG11B.hex simpleserial-base-CWLITEARM.hex simpleserial-base-CWLITEXMEGA.hex simpleserial-base-CWNANO.hex simpleserial-base-CWHUSKY.hex simpleserial-base-CW308_K82F.hex simpleserial-base-CW308_PSOC62.hex simpleserial-base-CW308_IMXRT1062.hex simpleserial-base-CW308_FE310.hex simpleserial-base-CW308_EFR32MG21A.hex simpleserial-base-CW308_EFM32GG11.hex simpleserial-base-CW308_STM32L5.hex simpleserial-base-CW308_NEORV32.hex simpleserial-base-CW312_SAM4S.hex simpleserial-base-CW305_IBEX.hex\n",
      "rm -f -- simpleserial-base-CW308_CC2538.eep simpleserial-base-CW301_AVR.eep simpleserial-base-CW303.eep simpleserial-base-CW304.eep simpleserial-base-CW308_MEGARF.eep simpleserial-base-CW308_SAM4L.eep simpleserial-base-CW308_STM32F0.eep simpleserial-base-CW308_STM32F1.eep simpleserial-base-CW308_STM32F2.eep simpleserial-base-CW308_STM32F3.eep simpleserial-base-CW308_STM32F4.eep simpleserial-base-CW308_K24F.eep simpleserial-base-CW308_NRF52.eep simpleserial-base-CW308_AURIX.eep simpleserial-base-CW308_SAML11.eep simpleserial-base-CW308_EFM32TG11B.eep simpleserial-base-CWLITEARM.eep simpleserial-base-CWLITEXMEGA.eep simpleserial-base-CWNANO.eep simpleserial-base-CWHUSKY.eep simpleserial-base-CW308_K82F.eep simpleserial-base-CW308_PSOC62.eep simpleserial-base-CW308_IMXRT1062.eep simpleserial-base-CW308_FE310.eep simpleserial-base-CW308_EFR32MG21A.eep simpleserial-base-CW308_EFM32GG11.eep simpleserial-base-CW308_STM32L5.eep simpleserial-base-CW308_NEORV32.eep simpleserial-base-CW312_SAM4S.eep simpleserial-base-CW305_IBEX.eep\n",
      "rm -f -- simpleserial-base-CW308_CC2538.bin simpleserial-base-CW301_AVR.bin simpleserial-base-CW303.bin simpleserial-base-CW304.bin simpleserial-base-CW308_MEGARF.bin simpleserial-base-CW308_SAM4L.bin simpleserial-base-CW308_STM32F0.bin simpleserial-base-CW308_STM32F1.bin simpleserial-base-CW308_STM32F2.bin simpleserial-base-CW308_STM32F3.bin simpleserial-base-CW308_STM32F4.bin simpleserial-base-CW308_K24F.bin simpleserial-base-CW308_NRF52.bin simpleserial-base-CW308_AURIX.bin simpleserial-base-CW308_SAML11.bin simpleserial-base-CW308_EFM32TG11B.bin simpleserial-base-CWLITEARM.bin simpleserial-base-CWLITEXMEGA.bin simpleserial-base-CWNANO.bin simpleserial-base-CWHUSKY.bin simpleserial-base-CW308_K82F.bin simpleserial-base-CW308_PSOC62.bin simpleserial-base-CW308_IMXRT1062.bin simpleserial-base-CW308_FE310.bin simpleserial-base-CW308_EFR32MG21A.bin simpleserial-base-CW308_EFM32GG11.bin simpleserial-base-CW308_STM32L5.bin simpleserial-base-CW308_NEORV32.bin simpleserial-base-CW312_SAM4S.bin simpleserial-base-CW305_IBEX.bin\n",
      "rm -f -- simpleserial-base-CW308_CC2538.cof simpleserial-base-CW301_AVR.cof simpleserial-base-CW303.cof simpleserial-base-CW304.cof simpleserial-base-CW308_MEGARF.cof simpleserial-base-CW308_SAM4L.cof simpleserial-base-CW308_STM32F0.cof simpleserial-base-CW308_STM32F1.cof simpleserial-base-CW308_STM32F2.cof simpleserial-base-CW308_STM32F3.cof simpleserial-base-CW308_STM32F4.cof simpleserial-base-CW308_K24F.cof simpleserial-base-CW308_NRF52.cof simpleserial-base-CW308_AURIX.cof simpleserial-base-CW308_SAML11.cof simpleserial-base-CW308_EFM32TG11B.cof simpleserial-base-CWLITEARM.cof simpleserial-base-CWLITEXMEGA.cof simpleserial-base-CWNANO.cof simpleserial-base-CWHUSKY.cof simpleserial-base-CW308_K82F.cof simpleserial-base-CW308_PSOC62.cof simpleserial-base-CW308_IMXRT1062.cof simpleserial-base-CW308_FE310.cof simpleserial-base-CW308_EFR32MG21A.cof simpleserial-base-CW308_EFM32GG11.cof simpleserial-base-CW308_STM32L5.cof simpleserial-base-CW308_NEORV32.cof simpleserial-base-CW312_SAM4S.cof simpleserial-base-CW305_IBEX.cof\n",
      "rm -f -- simpleserial-base-CW308_CC2538.elf simpleserial-base-CW301_AVR.elf simpleserial-base-CW303.elf simpleserial-base-CW304.elf simpleserial-base-CW308_MEGARF.elf simpleserial-base-CW308_SAM4L.elf simpleserial-base-CW308_STM32F0.elf simpleserial-base-CW308_STM32F1.elf simpleserial-base-CW308_STM32F2.elf simpleserial-base-CW308_STM32F3.elf simpleserial-base-CW308_STM32F4.elf simpleserial-base-CW308_K24F.elf simpleserial-base-CW308_NRF52.elf simpleserial-base-CW308_AURIX.elf simpleserial-base-CW308_SAML11.elf simpleserial-base-CW308_EFM32TG11B.elf simpleserial-base-CWLITEARM.elf simpleserial-base-CWLITEXMEGA.elf simpleserial-base-CWNANO.elf simpleserial-base-CWHUSKY.elf simpleserial-base-CW308_K82F.elf simpleserial-base-CW308_PSOC62.elf simpleserial-base-CW308_IMXRT1062.elf simpleserial-base-CW308_FE310.elf simpleserial-base-CW308_EFR32MG21A.elf simpleserial-base-CW308_EFM32GG11.elf simpleserial-base-CW308_STM32L5.elf simpleserial-base-CW308_NEORV32.elf simpleserial-base-CW312_SAM4S.elf simpleserial-base-CW305_IBEX.elf\n",
      "rm -f -- simpleserial-base-CW308_CC2538.map simpleserial-base-CW301_AVR.map simpleserial-base-CW303.map simpleserial-base-CW304.map simpleserial-base-CW308_MEGARF.map simpleserial-base-CW308_SAM4L.map simpleserial-base-CW308_STM32F0.map simpleserial-base-CW308_STM32F1.map simpleserial-base-CW308_STM32F2.map simpleserial-base-CW308_STM32F3.map simpleserial-base-CW308_STM32F4.map simpleserial-base-CW308_K24F.map simpleserial-base-CW308_NRF52.map simpleserial-base-CW308_AURIX.map simpleserial-base-CW308_SAML11.map simpleserial-base-CW308_EFM32TG11B.map simpleserial-base-CWLITEARM.map simpleserial-base-CWLITEXMEGA.map simpleserial-base-CWNANO.map simpleserial-base-CWHUSKY.map simpleserial-base-CW308_K82F.map simpleserial-base-CW308_PSOC62.map simpleserial-base-CW308_IMXRT1062.map simpleserial-base-CW308_FE310.map simpleserial-base-CW308_EFR32MG21A.map simpleserial-base-CW308_EFM32GG11.map simpleserial-base-CW308_STM32L5.map simpleserial-base-CW308_NEORV32.map simpleserial-base-CW312_SAM4S.map simpleserial-base-CW305_IBEX.map\n",
      "rm -f -- simpleserial-base-CW308_CC2538.sym simpleserial-base-CW301_AVR.sym simpleserial-base-CW303.sym simpleserial-base-CW304.sym simpleserial-base-CW308_MEGARF.sym simpleserial-base-CW308_SAM4L.sym simpleserial-base-CW308_STM32F0.sym simpleserial-base-CW308_STM32F1.sym simpleserial-base-CW308_STM32F2.sym simpleserial-base-CW308_STM32F3.sym simpleserial-base-CW308_STM32F4.sym simpleserial-base-CW308_K24F.sym simpleserial-base-CW308_NRF52.sym simpleserial-base-CW308_AURIX.sym simpleserial-base-CW308_SAML11.sym simpleserial-base-CW308_EFM32TG11B.sym simpleserial-base-CWLITEARM.sym simpleserial-base-CWLITEXMEGA.sym simpleserial-base-CWNANO.sym simpleserial-base-CWHUSKY.sym simpleserial-base-CW308_K82F.sym simpleserial-base-CW308_PSOC62.sym simpleserial-base-CW308_IMXRT1062.sym simpleserial-base-CW308_FE310.sym simpleserial-base-CW308_EFR32MG21A.sym simpleserial-base-CW308_EFM32GG11.sym simpleserial-base-CW308_STM32L5.sym simpleserial-base-CW308_NEORV32.sym simpleserial-base-CW312_SAM4S.sym simpleserial-base-CW305_IBEX.sym\n",
      "rm -f -- simpleserial-base-CW308_CC2538.lss simpleserial-base-CW301_AVR.lss simpleserial-base-CW303.lss simpleserial-base-CW304.lss simpleserial-base-CW308_MEGARF.lss simpleserial-base-CW308_SAM4L.lss simpleserial-base-CW308_STM32F0.lss simpleserial-base-CW308_STM32F1.lss simpleserial-base-CW308_STM32F2.lss simpleserial-base-CW308_STM32F3.lss simpleserial-base-CW308_STM32F4.lss simpleserial-base-CW308_K24F.lss simpleserial-base-CW308_NRF52.lss simpleserial-base-CW308_AURIX.lss simpleserial-base-CW308_SAML11.lss simpleserial-base-CW308_EFM32TG11B.lss simpleserial-base-CWLITEARM.lss simpleserial-base-CWLITEXMEGA.lss simpleserial-base-CWNANO.lss simpleserial-base-CWHUSKY.lss simpleserial-base-CW308_K82F.lss simpleserial-base-CW308_PSOC62.lss simpleserial-base-CW308_IMXRT1062.lss simpleserial-base-CW308_FE310.lss simpleserial-base-CW308_EFR32MG21A.lss simpleserial-base-CW308_EFM32GG11.lss simpleserial-base-CW308_STM32L5.lss simpleserial-base-CW308_NEORV32.lss simpleserial-base-CW312_SAM4S.lss simpleserial-base-CW305_IBEX.lss\n",
      "rm -f -- objdir-CW308_STM32F0/*.o\n",
      "rm -f -- objdir-CW308_STM32F0/*.lst\n",
      "rm -rf objdir-CW308_STM32F0\n",
      "rm -f -- simpleserial-base.s simpleserial.s hal.s stm32f0_hal.s stm32f0_hal_lowlevel.s simpleserial.s\n",
      "rm -f -- simpleserial-base.d simpleserial.d hal.d stm32f0_hal.d stm32f0_hal_lowlevel.d simpleserial.d\n",
      "rm -f -- simpleserial-base.i simpleserial.i hal.i stm32f0_hal.i stm32f0_hal_lowlevel.i simpleserial.i\n",
      "rm -rf .dep\n",
      "SS_VER set to SS_VER_1_1\n",
      "SS_VER set to SS_VER_1_1\n",
      ".\n",
      "Welcome to another exciting ChipWhisperer target build!!\n",
      "arm-none-eabi-gcc (15:10.3-2021.07-4) 10.3.1 20210621 (release)\n",
      "Copyright (C) 2020 Free Software Foundation, Inc.\n",
      "This is free software; see the source for copying conditions.  There is NO\n",
      "warranty; not even for MERCHANTABILITY or FITNESS FOR A PARTICULAR PURPOSE.\n",
      "\n",
      "mkdir -p objdir-CW308_STM32F0 \n",
      ".\n",
      "Compiling:\n",
      "-en     simpleserial-base.c ...\n",
      "-e Done!\n",
      ".\n",
      "Compiling:\n",
      "-en     .././simpleserial/simpleserial.c ...\n",
      "-e Done!\n",
      ".\n",
      "Compiling:\n",
      "-en     .././hal/hal.c ...\n",
      "-e Done!\n",
      ".\n",
      "Compiling:\n",
      "-en     .././hal//stm32f0/stm32f0_hal.c ...\n",
      "-e Done!\n",
      ".\n",
      "Compiling:\n",
      "-en     .././hal//stm32f0/stm32f0_hal_lowlevel.c ...\n",
      "-e Done!\n",
      ".\n",
      "Assembling: .././hal//stm32f0/stm32f0_startup.S\n",
      "arm-none-eabi-gcc -c -mcpu=cortex-m0 -I. -x assembler-with-cpp -mthumb -mfloat-abi=soft -ffunction-sections -DF_CPU=7372800 -Wa,-gstabs,-adhlns=objdir-CW308_STM32F0/stm32f0_startup.lst -I.././simpleserial/ -I.././hal/ -I.././hal/ -I.././hal//stm32f0 -I.././hal//stm32f0/CMSIS -I.././hal//stm32f0/CMSIS/core -I.././hal//stm32f0/CMSIS/device -I.././hal//stm32f0/Legacy -I.././simpleserial/ -I.././crypto/ .././hal//stm32f0/stm32f0_startup.S -o objdir-CW308_STM32F0/stm32f0_startup.o\n",
      ".\n",
      "LINKING:\n",
      "-en     simpleserial-base-CW308_STM32F0.elf ...\n",
      "Memory region         Used Size  Region Size  %age Used\n",
      "             RAM:        1688 B         8 KB     20.61%\n",
      "             ROM:        5156 B        16 KB     31.47%\n",
      "-e Done!\n",
      ".\n",
      "Creating load file for Flash: simpleserial-base-CW308_STM32F0.hex\n",
      "arm-none-eabi-objcopy -O ihex -R .eeprom -R .fuse -R .lock -R .signature simpleserial-base-CW308_STM32F0.elf simpleserial-base-CW308_STM32F0.hex\n",
      ".\n",
      "Creating load file for Flash: simpleserial-base-CW308_STM32F0.bin\n",
      "arm-none-eabi-objcopy -O binary -R .eeprom -R .fuse -R .lock -R .signature simpleserial-base-CW308_STM32F0.elf simpleserial-base-CW308_STM32F0.bin\n",
      ".\n",
      "Creating load file for EEPROM: simpleserial-base-CW308_STM32F0.eep\n",
      "arm-none-eabi-objcopy -j .eeprom --set-section-flags=.eeprom=\"alloc,load\" \\\n",
      "--change-section-lma .eeprom=0 --no-change-warnings -O ihex simpleserial-base-CW308_STM32F0.elf simpleserial-base-CW308_STM32F0.eep || exit 0\n",
      ".\n",
      "Creating Extended Listing: simpleserial-base-CW308_STM32F0.lss\n",
      "arm-none-eabi-objdump -h -S -z simpleserial-base-CW308_STM32F0.elf > simpleserial-base-CW308_STM32F0.lss\n",
      ".\n",
      "Creating Symbol Table: simpleserial-base-CW308_STM32F0.sym\n",
      "arm-none-eabi-nm -n simpleserial-base-CW308_STM32F0.elf > simpleserial-base-CW308_STM32F0.sym\n",
      "Size after:\n",
      "   text\t   data\t    bss\t    dec\t    hex\tfilename\n",
      "   5144\t     12\t   1684\t   6840\t   1ab8\tsimpleserial-base-CW308_STM32F0.elf\n",
      "+--------------------------------------------------------\n",
      "+ Default target does full rebuild each time.\n",
      "+ Specify buildtarget == allquick == to avoid full rebuild\n",
      "+--------------------------------------------------------\n",
      "+--------------------------------------------------------\n",
      "+ Built for platform CW308T: STM32F0 Target with:\n",
      "+ CRYPTO_TARGET = NONE\n",
      "+ CRYPTO_OPTIONS = AES128C\n",
      "+--------------------------------------------------------\n"
     ]
    }
   ],
   "source": [
    "%%bash\n",
    "cd ../firmware/mcu/simpleserial-base/\n",
    "make PLATFORM=CW308_STM32F0 CRYPTO_TARGET=NONE clean\n",
    "make PLATFORM=CW308_STM32F0 CRYPTO_TARGET=NONE"
   ]
  },
  {
   "cell_type": "code",
   "execution_count": 36,
   "id": "51dadb7c-212b-4105-a333-2b8bafa9f7e3",
   "metadata": {},
   "outputs": [
    {
     "name": "stdout",
     "output_type": "stream",
     "text": [
      "Detected unknown STM32F ID: 0x440\n",
      "Extended erase (0x44), this can take ten seconds or more\n",
      "Attempting to program 5155 bytes at 0x8000000\n",
      "STM32F Programming flash...\n",
      "STM32F Reading flash...\n",
      "Verified flash OK, 5155 bytes\n"
     ]
    }
   ],
   "source": [
    "cw.program_target(scope, cw.programmers.STM32FProgrammer, \"../firmware/mcu/simpleserial-base/simpleserial-base-CW308_STM32F0.hex\")\n"
   ]
  },
  {
   "cell_type": "code",
   "execution_count": 37,
   "id": "9cd13873-ddaa-4940-9afa-313be39ceecb",
   "metadata": {},
   "outputs": [],
   "source": [
    "msg = bytearray([0]*16) #simpleserial uses bytearrays\n",
    "target.simpleserial_write('p', msg)"
   ]
  },
  {
   "cell_type": "code",
   "execution_count": 38,
   "id": "156117d4-2e52-4b6d-ab97-2046f9471eff",
   "metadata": {},
   "outputs": [
    {
     "name": "stdout",
     "output_type": "stream",
     "text": [
      "bytearray(b'\\x00\\x00\\x00\\x00\\x00\\x00\\x00\\x00\\x00\\x00\\x00\\x00\\x00\\x00\\x00\\x00')\n"
     ]
    }
   ],
   "source": [
    "print(target.simpleserial_read('r', 16))\n"
   ]
  }
 ],
 "metadata": {
  "kernelspec": {
   "display_name": "Python 3 (ipykernel)",
   "language": "python",
   "name": "python3"
  },
  "language_info": {
   "codemirror_mode": {
    "name": "ipython",
    "version": 3
   },
   "file_extension": ".py",
   "mimetype": "text/x-python",
   "name": "python",
   "nbconvert_exporter": "python",
   "pygments_lexer": "ipython3",
   "version": "3.10.12"
  }
 },
 "nbformat": 4,
 "nbformat_minor": 5
}
