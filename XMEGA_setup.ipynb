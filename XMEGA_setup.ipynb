{
 "cells": [
  {
   "cell_type": "code",
   "execution_count": null,
   "id": "2772c44f-cb6b-4eaa-afcb-7a30800cb600",
   "metadata": {},
   "outputs": [],
   "source": [
    "import chipwhisperer as cw\n",
    "scope = cw.scope()\n",
    "print(\"done\")"
   ]
  },
  {
   "cell_type": "code",
   "execution_count": null,
   "id": "b9c6ff04-1fe2-4a05-a36e-1b7e24cbedc8",
   "metadata": {},
   "outputs": [],
   "source": [
    "target = cw.target(scope, cw.targets.SimpleSerial) #cw.targets.SimpleSerial can be omitted\n"
   ]
  },
  {
   "cell_type": "code",
   "execution_count": null,
   "id": "1f921c6d-d43c-49bc-a20f-2ee94d610aeb",
   "metadata": {},
   "outputs": [],
   "source": [
    "scope.default_setup()\n"
   ]
  },
  {
   "cell_type": "code",
   "execution_count": null,
   "id": "6075fbd3-9a44-4b9d-9916-194b2b722b74",
   "metadata": {},
   "outputs": [],
   "source": [
    "%%bash\n",
    "cd ../firmware/mcu/simpleserial-base/\n",
    "make PLATFORM=CWLITEXMEGA CRYPTO_TARGET=NONE clean\n",
    "make PLATFORM=CWLITEXMEGA CRYPTO_TARGET=NONE"
   ]
  },
  {
   "cell_type": "code",
   "execution_count": null,
   "id": "691097f1-9931-4590-8e99-6a08436fa176",
   "metadata": {},
   "outputs": [],
   "source": [
    "# Lower level programming attempt\n",
    "prog = cw.programmers.XMEGAProgrammer()\n",
    "prog.scope = scope\n",
    "\n",
    "try:\n",
    "    print(\"Manual programming attempt...\")\n",
    "    \n",
    "    # Set up pins manually before opening programmer\n",
    "    scope.io.pdic = 'high_z'\n",
    "    scope.io.pdid = 'high_z'\n",
    "    scope.io.nrst = 'low'\n",
    "    time.sleep(0.2)\n",
    "    \n",
    "    scope.io.nrst = 'high_z'\n",
    "    time.sleep(0.1)\n",
    "    \n",
    "    # Open programmer\n",
    "    prog.open()\n",
    "    \n",
    "    # Try to find target multiple times\n",
    "    found = False\n",
    "    for attempt in range(3):\n",
    "        try:\n",
    "            print(f\"Find attempt {attempt + 1}...\")\n",
    "            prog.find()\n",
    "            found = True\n",
    "            break\n",
    "        except:\n",
    "            time.sleep(0.2)\n",
    "    \n",
    "    if not found:\n",
    "        raise Exception(\"Could not find target after 3 attempts\")\n",
    "    \n",
    "    # Skip erase and try direct programming\n",
    "    print(\"Attempting direct programming (skipping erase)...\")\n",
    "    prog.program(\"../firmware/mcu/simpleserial-base/simpleserial-base-CWLITEXMEGA.hex\", \n",
    "                memtype=\"flash\", verify=False)\n",
    "    \n",
    "    print(\"Programming successful!\")\n",
    "    \n",
    "except Exception as e:\n",
    "    print(f\"Programming failed: {e}\")\n",
    "finally:\n",
    "    try:\n",
    "        prog.close()\n",
    "    except:\n",
    "        pass"
   ]
  },
  {
   "cell_type": "code",
   "execution_count": null,
   "id": "aadd0846-7ae8-428f-844b-3bffe1316466",
   "metadata": {},
   "outputs": [],
   "source": [
    "# Reset target and test communication\n",
    "import time\n",
    "\n",
    "scope.io.nrst = 'low'\n",
    "time.sleep(0.1)\n",
    "scope.io.nrst = 'high_z'\n",
    "time.sleep(0.5)  # Give target time to boot\n",
    "\n",
    "print(\"Testing target communication...\")"
   ]
  },
  {
   "cell_type": "code",
   "execution_count": null,
   "id": "31258472-b875-4653-b6c7-abbdcc4de3c9",
   "metadata": {},
   "outputs": [],
   "source": [
    "# Test the 'p' command (should echo back)\n",
    "msg = bytearray([0]*16)\n",
    "target.simpleserial_write('p', msg)\n",
    "response = target.simpleserial_read('r', 16)\n",
    "print(f\"Response to 'p' command: {response}\")"
   ]
  },
  {
   "cell_type": "code",
   "execution_count": null,
   "id": "d90fbc10-dedb-47e7-85a8-6654f629204d",
   "metadata": {},
   "outputs": [],
   "source": [
    "# Clear serial buffers\n",
    "target.flush()\n",
    "print(\"Buffers cleared\")"
   ]
  },
  {
   "cell_type": "code",
   "execution_count": null,
   "id": "1149f6f6-0738-482c-b05b-c8c9a02efa1d",
   "metadata": {},
   "outputs": [],
   "source": [
    "# Try a lower baud rate\n",
    "target.baud = 38400  # Default is usually 115200\n",
    "print(f\"Baud rate set to: {target.baud}\")"
   ]
  },
  {
   "cell_type": "code",
   "execution_count": null,
   "id": "43f11b4a-a60d-4f57-9d24-04d1ef1c9874",
   "metadata": {},
   "outputs": [],
   "source": [
    "# Test with cleared buffers and new baud rate\n",
    "import time\n",
    "\n",
    "target.flush()\n",
    "time.sleep(0.1)\n",
    "\n",
    "msg = bytearray([0]*16)\n",
    "target.simpleserial_write('p', msg)\n",
    "response = target.simpleserial_read('r', 16)\n",
    "print(f\"Response to 'p' command: {response}\")"
   ]
  },
  {
   "cell_type": "code",
   "execution_count": null,
   "id": "f2bcd64f-70ab-44a0-9d03-3d00bb469255",
   "metadata": {},
   "outputs": [],
   "source": [
    "target.simpleserial_write('k', msg)\n"
   ]
  },
  {
   "cell_type": "code",
   "execution_count": null,
   "id": "b297327c-017b-4f37-adfe-c72a94c7e10c",
   "metadata": {},
   "outputs": [],
   "source": [
    "print(target.simpleserial_wait_ack()) #should return 0\n"
   ]
  },
  {
   "cell_type": "code",
   "execution_count": null,
   "id": "8c22dfd1-a137-48bc-877a-542e20f74cea",
   "metadata": {},
   "outputs": [],
   "source": [
    "target.write('p' + \"0Z\"*16 + '\\n')"
   ]
  },
  {
   "cell_type": "code",
   "execution_count": null,
   "id": "9b5cd4c9-e6d1-4578-bbe9-bee83a0dca48",
   "metadata": {},
   "outputs": [],
   "source": [
    "recv_msg = \"\"\n",
    "recv_msg += target.read() #you might have to run this block a few times to get the full message\n",
    "print(recv_msg)"
   ]
  },
  {
   "cell_type": "code",
   "execution_count": null,
   "id": "cf8b5802-e18e-44ec-9e7e-a27947f5960f",
   "metadata": {},
   "outputs": [],
   "source": [
    "scope.arm()\n",
    "target.simpleserial_write('p', msg)\n",
    "ret = scope.capture()\n",
    "trace = scope.get_last_trace()"
   ]
  },
  {
   "cell_type": "code",
   "execution_count": null,
   "id": "bc64a2aa-cc93-471d-89c5-fb9ac793bb96",
   "metadata": {},
   "outputs": [],
   "source": [
    "if ret:\n",
    "    print(\"Capture timed out!\")\n",
    "else:\n",
    "    print(\"Capture successful!\")\n",
    "    trace = scope.get_last_trace()\n",
    "    print(f\"Trace length: {len(trace)} samples\")\n",
    "    print(f\"Trace range: {min(trace):.3f} to {max(trace):.3f}\")"
   ]
  },
  {
   "cell_type": "code",
   "execution_count": null,
   "id": "7d209c76-068e-4359-a175-8a61c23909a9",
   "metadata": {},
   "outputs": [],
   "source": [
    "# Using the convenience function\n",
    "msg = bytearray([0x12, 0x34, 0x56, 0x78] + [0]*12)  # Some test data\n",
    "\n",
    "trace = cw.capture_trace(scope, target, msg)\n",
    "\n",
    "if trace is not None:\n",
    "    print(\"Trace captured successfully!\")\n",
    "    print(f\"Input data: {trace.textin}\")\n",
    "    print(f\"Output data: {trace.textout}\")\n",
    "    print(f\"Trace samples: {len(trace.wave)}\")\n",
    "else:\n",
    "    print(\"Trace capture failed\")"
   ]
  }
 ],
 "metadata": {
  "kernelspec": {
   "display_name": "Python 3 (ipykernel)",
   "language": "python",
   "name": "python3"
  },
  "language_info": {
   "codemirror_mode": {
    "name": "ipython",
    "version": 3
   },
   "file_extension": ".py",
   "mimetype": "text/x-python",
   "name": "python",
   "nbconvert_exporter": "python",
   "pygments_lexer": "ipython3",
   "version": "3.10.12"
  }
 },
 "nbformat": 4,
 "nbformat_minor": 5
}
